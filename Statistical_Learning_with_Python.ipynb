{
  "nbformat": 4,
  "nbformat_minor": 0,
  "metadata": {
    "colab": {
      "name": "Statistical Learning with Python.ipynb",
      "provenance": [],
      "collapsed_sections": []
    },
    "kernelspec": {
      "name": "python3",
      "display_name": "Python 3"
    },
    "language_info": {
      "name": "python"
    }
  },
  "cells": [
    {
      "cell_type": "code",
      "execution_count": null,
      "metadata": {
        "id": "mnXxvfDR7iBG"
      },
      "outputs": [],
      "source": [
        "import numpy as np      \n",
        "import pandas as pd\n",
        "import matplotlib.pyplot as plt\n",
        "from scipy import stats\n",
        "from scipy.stats import chi2, norm, t\n",
        "import math\n",
        "import decimal\n",
        "# Precision to use\n",
        "decimal.getcontext().prec = 100"
      ]
    },
    {
      "cell_type": "code",
      "source": [
        "def min_sq(x,y):\n",
        " x_bar , y_bar=np.mean(x), np.mean(y)\n",
        " beta_1=np.dot(x-x_bar,y-y_bar)/np.linalg.norm(x-x_bar)**2\n",
        " beta_0=y_bar-beta_1*x_bar\n",
        " return [beta_1,beta_0]"
      ],
      "metadata": {
        "id": "PgmrhzGnA6wV"
      },
      "execution_count": null,
      "outputs": []
    },
    {
      "cell_type": "code",
      "source": [
        " N=100\n",
        "# Data generation\n",
        " a=np.random.normal(loc=2,scale=1,size=N) # randomly generate the coefficients of the line\n",
        " b= np.random.randn(1) # randomly generate the points surrounding the line\n",
        " x= np.random.randn(N)\n",
        " y=a*x+b+np.random.randn(N)\n",
        " a1,b1=min_sq(x,y) # estimating coefficients\n",
        " xx=x-np.mean(x);yy=y-np.mean(y) # centering\n",
        " a2,b2=min_sq(xx,yy)\n",
        " print(a2)\n",
        " print(b2)"
      ],
      "metadata": {
        "colab": {
          "base_uri": "https://localhost:8080/"
        },
        "id": "VcGnOtqh7676",
        "outputId": "5b51dac0-e316-46c9-bd17-a7304d8c3128"
      },
      "execution_count": null,
      "outputs": [
        {
          "output_type": "stream",
          "name": "stdout",
          "text": [
            "2.056365477428022\n",
            "5.379133118868415e-17\n"
          ]
        }
      ]
    },
    {
      "cell_type": "code",
      "source": [
        " x_seq=np.arange(-5,5,0.1)\n",
        " y_pre=x_seq*a1+b1\n",
        " yy_pre=x_seq*a2+b2\n",
        " plt.scatter(x,y,c=\"black\")\n",
        "# plots of the points\n",
        " plt.axhline(y=0,c=\"black\",linewidth=0.5)\n",
        " plt.axvline(x=0,c=\"black\",linewidth=0.5)\n",
        " plt.plot(x_seq,y_pre,c=\"blue\",label=\"Before\")\n",
        "# the line before centering\n",
        " plt.plot(x_seq,yy_pre,c=\"orange\",label=\"After\") # the line after centering\n",
        " plt.legend(loc=\"upper left\")"
      ],
      "metadata": {
        "colab": {
          "base_uri": "https://localhost:8080/",
          "height": 282
        },
        "id": "paZRg-hU83g5",
        "outputId": "e9ea888b-064f-4bf2-bd9e-d2434c320493"
      },
      "execution_count": null,
      "outputs": [
        {
          "output_type": "execute_result",
          "data": {
            "text/plain": [
              "<matplotlib.legend.Legend at 0x7fb651910890>"
            ]
          },
          "metadata": {},
          "execution_count": 5
        },
        {
          "output_type": "display_data",
          "data": {
            "text/plain": [
              "<Figure size 432x288 with 1 Axes>"
            ],
            "image/png": "[encoded data removed]"
          },
          "metadata": {
            "needs_background": "light"
          }
        }
      ]
    },
    {
      "cell_type": "code",
      "source": [
        "## Multi linear regression\n",
        "n = 100 \n",
        "p=2\n",
        "beta=np.array([1,2,3])\n",
        "x=np.random.randn(n,2)\n",
        "y=beta[0]+beta[1]*x[:,0]+beta[2]*x[:,1]+np.random.randn(n)\n",
        "X=np.insert(x,0,1,axis=1) # adding the all one vector in the leftmost column\n",
        "np.linalg.inv(X.T@X)@X.T@y # estimate the beta"
      ],
      "metadata": {
        "colab": {
          "base_uri": "https://localhost:8080/"
        },
        "id": "Y-VdZV2evfUM",
        "outputId": "9b49a044-fa9b-4015-886c-a123b090bf80"
      },
      "execution_count": null,
      "outputs": [
        {
          "output_type": "execute_result",
          "data": {
            "text/plain": [
              "array([0.71916997, 2.21960812, 2.95722656])"
            ]
          },
          "metadata": {},
          "execution_count": 6
        }
      ]
    },
    {
      "cell_type": "code",
      "source": [
        "x=np.arange(0,20,0.1)\n",
        "for i in range(1,11):\n",
        " plt.plot(x,chi2.pdf(x,i),label='{}'.format(i))\n",
        "plt.legend(loc='upper right')"
      ],
      "metadata": {
        "colab": {
          "base_uri": "https://localhost:8080/",
          "height": 282
        },
        "id": "hagREXFQ3r7t",
        "outputId": "569ff3c4-235d-40f8-d4fc-0ce3dc8c081f"
      },
      "execution_count": null,
      "outputs": [
        {
          "output_type": "execute_result",
          "data": {
            "text/plain": [
              "<matplotlib.legend.Legend at 0x7fb64ec47c10>"
            ]
          },
          "metadata": {},
          "execution_count": 7
        },
        {
          "output_type": "display_data",
          "data": {
            "text/plain": [
              "<Figure size 432x288 with 1 Axes>"
            ],
            "image/png": "[encoded data removed]"
          },
          "metadata": {
            "needs_background": "light"
          }
        }
      ]
    },
    {
      "cell_type": "code",
      "source": [
        "x=np.arange(-10,10,0.1)\n",
        "plt.plot(x,norm.pdf(x,0,1),label=\"Normal \",c=\"black\",linewidth=1)\n",
        "for i in range(1,11):\n",
        " plt.plot(x,t.pdf(x,i),label='{}'.format(i),linewidth=0.8)\n",
        "plt.legend(loc='upper right')\n",
        "plt.title(\"changes of t distribution by degree of freedom\")"
      ],
      "metadata": {
        "colab": {
          "base_uri": "https://localhost:8080/",
          "height": 298
        },
        "id": "2X75dmUbFQhz",
        "outputId": "7f137b3a-ffab-4bc6-da62-0f2352c522ae"
      },
      "execution_count": null,
      "outputs": [
        {
          "output_type": "execute_result",
          "data": {
            "text/plain": [
              "Text(0.5, 1.0, 'changes of t distribution by degree of freedom')"
            ]
          },
          "metadata": {},
          "execution_count": 8
        },
        {
          "output_type": "display_data",
          "data": {
            "text/plain": [
              "<Figure size 432x288 with 1 Axes>"
            ],
            "image/png": "[encoded data removed]"
          },
          "metadata": {
            "needs_background": "light"
          }
        }
      ]
    },
    {
      "cell_type": "code",
      "source": [
        "### Logistic regression\n",
        "beta_0 = 0\n",
        "beta_1 = 0.5\n",
        "def f(x):\n",
        " return np.exp(beta_0+beta*x)/(1+np.exp(beta_0+beta*x))\n",
        "\n",
        "beta_0=0\n",
        "beta_seq=np.array([0,0.2,0.5,1,2,10])\n",
        "x_seq=np.arange(-10,10,0.1)\n",
        "plt.xlabel(\"x\")\n",
        "plt.ylabel(\"P(Y=1|x)\")\n",
        "plt.title(\"logistic curve\")\n",
        "for i in range(beta_seq.shape[0]):\n",
        " beta=beta_seq[i]\n",
        " p=f(x_seq)\n",
        " plt.plot(x_seq,p,label='{}'.format(beta))\n",
        "plt.legend(loc='upper left')"
      ],
      "metadata": {
        "colab": {
          "base_uri": "https://localhost:8080/",
          "height": 312
        },
        "id": "M3khMEZ4BNGb",
        "outputId": "ddc8d9a9-796d-4ef3-912d-0a38b9283257"
      },
      "execution_count": null,
      "outputs": [
        {
          "output_type": "execute_result",
          "data": {
            "text/plain": [
              "<matplotlib.legend.Legend at 0x7fb64f0f7c90>"
            ]
          },
          "metadata": {},
          "execution_count": 9
        },
        {
          "output_type": "display_data",
          "data": {
            "text/plain": [
              "<Figure size 432x288 with 1 Axes>"
            ],
            "image/png": "[encoded data removed]"
          },
          "metadata": {
            "needs_background": "light"
          }
        }
      ]
    },
    {
      "cell_type": "code",
      "source": [
        "### Example of Newton's METHOD\n",
        "N=1000; p=2\n",
        "X=np.random.randn(N,p)\n",
        "X=np.insert(X,0,1,axis=1)\n",
        "beta=np.random.randn(p+1)\n",
        "y=[]\n",
        "prob=1/(1+np.exp(X@beta))\n",
        "for i in range(N):\n",
        " if (np.random.rand(1)>prob[i]):\n",
        "  y.append(1)\n",
        "else :\n",
        " y.append(-1)\n",
        "# Data generation ends here\n",
        "beta # check\n",
        "\n",
        "# likelihood estimation\n",
        "#gamma=np.random.randn(p+1) # initial value of beta\n",
        "#print (gamma)\n",
        "#while (np.sum((beta-gamma)**2)>0.001):\n",
        " #beta=gamma\n",
        " #s=X@beta\n",
        " #v=math.exp(-s*y)\n",
        " #u=(y*v)/(1+v)\n",
        " #w=v/((1+v)**2)\n",
        " #W=np.diag(w)\n",
        " #z=s+u/w\n",
        " #gamma=np.linalg.inv(X.T@W@X)@X.T@W@z\n",
        " #print (gamma)"
      ],
      "metadata": {
        "colab": {
          "base_uri": "https://localhost:8080/"
        },
        "id": "AD7d5OxvIPeH",
        "outputId": "1ea23956-7132-42aa-f7c9-29fb55588e2a"
      },
      "execution_count": null,
      "outputs": [
        {
          "output_type": "execute_result",
          "data": {
            "text/plain": [
              "array([-1.03610253, -1.11180313,  1.5946772 ])"
            ]
          },
          "metadata": {},
          "execution_count": 10
        }
      ]
    },
    {
      "cell_type": "code",
      "source": [
        "n=100\n",
        "x=np.random.randn(n)*2*np.pi\n",
        "y=np.sin(x)+0.2*np.random.randn(n)\n",
        "col_set=[\"red\",\"green\",\"blue\"]\n",
        "K_set=[5,7,9]\n",
        "plt.scatter(x,y,c=\"black\",s=10)\n",
        "plt.xlim(-5,5)\n",
        "for k in range(3):\n",
        " K=K_set[k]\n",
        " knots=np.linspace(-2*np.pi,2*np.pi,K)\n",
        " X=np.zeros((n,K+4))\n",
        " for i in range(n):\n",
        "  X[i,0]=1\n",
        "  X[i,1]=x[i]\n",
        "  X[i,2]=x[i]**2\n",
        "  X[i,3]=x[i]**3\n",
        "  for j in range(K):\n",
        "   X[i,j+4]=np.maximum((x[i]-knots[j])**3,0)\n",
        " beta=np.linalg.inv(X.T@X)@X.T@y\n",
        " def f(x):\n",
        "   S=beta[0]+beta[1]*x+beta[2]*x**2+beta[3]*x**3\n",
        "   for j in range(K):\n",
        "    S=S+beta[j+4]*np.maximum((x-knots[j])**3,0)\n",
        "    return S\n",
        " u_seq=np.arange(-5,5,0.02)\n",
        " v_seq=[]\n",
        " for u in u_seq:\n",
        "  v_seq.append(f(u))\n",
        " plt.plot(u_seq,v_seq,c=col_set[k],label=\"K={}\".format(K))\n",
        " plt.legend()"
      ],
      "metadata": {
        "id": "SsnL8sALvYWc",
        "colab": {
          "base_uri": "https://localhost:8080/",
          "height": 265
        },
        "outputId": "cb67de5a-4b67-476e-d2fe-2dd2884e4d7f"
      },
      "execution_count": null,
      "outputs": [
        {
          "output_type": "display_data",
          "data": {
            "text/plain": [
              "<Figure size 432x288 with 1 Axes>"
            ],
            "image/png": "[encoded data removed]"
          },
          "metadata": {
            "needs_background": "light"
          }
        }
      ]
    },
    {
      "cell_type": "code",
      "source": [
        "### Natural Spline Regression\n",
        "def d(j,x,knots):\n",
        " K=len(knots)\n",
        " return (np.maximum((x-knots[j])**3,0)-np.maximum((x-knots[K-1])**3,0))/(knots[K-1]-knots[j])\n",
        "\n",
        "def h(j,x,knots):\n",
        " K=len(knots)\n",
        " if j==0:\n",
        "  return 1\n",
        " elif j==1:\n",
        "  return x\n",
        " else :\n",
        "  return (d(j-2,x,knots)-d(K-2,x,knots)) # Note that the way of counting in array is beginning 0.\n",
        "\n",
        "n=100\n",
        "x=np.random.randn(n)*2*np.pi\n",
        "y=np.sin(x)+0.2*np.random.randn(n)\n",
        "K=11\n",
        "knots=np.linspace(-5,5,K)\n",
        "X=np.zeros((n,K+4))\n",
        "for i in range(n):\n",
        " X[i,0]=1\n",
        " X[i,1]=x[i]\n",
        " X[i,2]=x[i]**2\n",
        " X[i,3]=x[i]**3\n",
        " for j in range(K):\n",
        "  X[i,j+4]=np.maximum((x[i]-knots[j])**3,0)\n",
        "beta=np.linalg.inv(X.T@X)@X.T@y\n",
        "\n",
        "def f(x):\n",
        " S=beta[0]+beta[1]*x+beta[2]*x**2+beta[3]*x**3\n",
        " for j in range(K):\n",
        "  S=S+beta[j+4]*np.maximum((x-knots[j])**3,0)\n",
        " return S\n",
        "\n",
        "\n",
        " X=np.zeros((n,K))\n",
        " X[:,0]=1\n",
        " for j in range(1,K):\n",
        "  for i in range(n):\n",
        "   X[i,j]=h(j,x[i],knots)\n",
        " gamma=np.linalg.inv(X.T@X)@X.T@y\n",
        "\n",
        " def g(x):\n",
        "  S=gamma[0]\n",
        "  for j in range(1,K):\n",
        "    S=S+gamma[j]*h(j,x,knots)\n",
        "  return S\n",
        "\n",
        " u_seq=np.arange(-6,6,0.02)\n",
        " v_seq=[]; w_seq=[]\n",
        " for u in u_seq:\n",
        "   v_seq.append(f(u))\n",
        "   w_seq.append(g(u))\n",
        " plt.scatter(x,y,c=\"black\",s=10)\n",
        " plt.xlim(-6,6)\n",
        " plt.xlabel(\"x\")\n",
        " plt.ylabel(\"f(x),g(x)\")\n",
        " plt.tick_params(labelleft=False)\n",
        " plt.plot(u_seq,v_seq,c=\"blue\",label=\"spline \")\n",
        " plt.plot(u_seq,w_seq,c=\"red\",label=\" natural spline\")\n",
        " plt.vlines(x=[-5,5],ymin=-1.5,ymax=1.5,linewidth=1)\n",
        " plt.vlines(x=knots,ymin=-1.5,ymax=1.5,linewidth=0.5,linestyle=\"dashed\")\n",
        " plt.legend()"
      ],
      "metadata": {
        "id": "VnSR69VUoJuT"
      },
      "execution_count": null,
      "outputs": []
    },
    {
      "cell_type": "code",
      "source": [
        "def sq_loss(y):\n",
        " if len(y)==0:\n",
        "  return 0\n",
        " else:\n",
        "  y_bar=np.mean(y)\n",
        " return np.linalg.norm(y-y_bar)**2"
      ],
      "metadata": {
        "id": "w-nuwFgQQdx2"
      },
      "execution_count": null,
      "outputs": []
    },
    {
      "cell_type": "code",
      "source": [
        "def mode_max(y):\n",
        " if len(y)==0:\n",
        "  return -np.inf\n",
        " count=np.bincount(y)\n",
        " return np.argmax(count)"
      ],
      "metadata": {
        "id": "9yv5kWChUpng"
      },
      "execution_count": null,
      "outputs": []
    },
    {
      "cell_type": "code",
      "source": [
        "def branch(x,y,S,rf=0):\n",
        " if rf==0:\n",
        "  m=x.shape[1]\n",
        "\n",
        " if x.shape[0]==0:\n",
        "  return([0,0,0,0,0,0,0])\n",
        " best_score=np.inf\n",
        " for j in range(x.shape[1]):\n",
        "  for i in S:\n",
        "    left=[]; right=[]\n",
        "    for k in S:\n",
        "      if x[k,j]<x[i,j]:\n",
        "        left.append(k)\n",
        "      else:\n",
        "        right.append(k)\n",
        "    left_score=f(y[left]); right_score=f(y[right])\n",
        "    score=left_score+right_score\n",
        "    if score<best_score:\n",
        "     best_score=score\n",
        "     i_1=i; j_1=j\n",
        "     left_1=left; right_1=right\n",
        "     left_score_1=left_score; right_score_1=right_score\n",
        "  return [i_1,j_1,left_1,right_1,best_score,left_score_1,right_score_1]"
      ],
      "metadata": {
        "id": "yEu-ItRSQoFK"
      },
      "execution_count": null,
      "outputs": []
    },
    {
      "cell_type": "code",
      "source": [
        "class Stack:\n",
        "  def __init__(self,parent,set,score):\n",
        "   self.parent=parent\n",
        "   self.set=set\n",
        "   self.score=score"
      ],
      "metadata": {
        "id": "qfHXYsDMRSC0"
      },
      "execution_count": null,
      "outputs": []
    },
    {
      "cell_type": "code",
      "source": [
        "class Node:\n",
        "  def __init__(self,parent,j,th,set):\n",
        "   self.parent=parent\n",
        "   self.j=j\n",
        "   self.th=th\n",
        "   self.set=set"
      ],
      "metadata": {
        "id": "l_Hi6eoJRZEB"
      },
      "execution_count": null,
      "outputs": []
    },
    {
      "cell_type": "code",
      "source": [
        "def dt(x,y,alpha=0,n_min=1,rf=0):\n",
        " if rf==0:\n",
        "   m=x.shape[1]\n",
        "# A single set of stack is constructed. Decision tree is initialized.\n",
        " stack=[Stack(0,list(range(x.shape[0])),f(y))] # f is global\n",
        " node=[]\n",
        " k=-1\n",
        "# Extracting the last element of the stack and updating the decision tree\n",
        " while len(stack)>0:\n",
        "  popped=stack.pop()\n",
        "  k=k+1\n",
        "  i,j,left,right,score,left_score,right_score=branch(x,y,popped.set,rf)\n",
        "  if popped.score-score<alpha or len(popped.set)<n_min or len(left)==0 or len(right)==0:\n",
        "   node.append(Node(popped.parent,-1,0,popped.set))\n",
        "  else:\n",
        "   node.append(Node(popped.parent,j,x[i,j],popped.set))\n",
        "   stack.append(Stack(k,right,right_score))\n",
        "  stack.append(Stack(k,left,left_score))\n",
        "# After these , set the value of node.left and node.right.\n",
        " for h in range(k,-1,-1):\n",
        "   node[h].left=0; node[h].right=0;\n",
        " for h in range(k,0,-1):\n",
        "   pa=node[h].parent\n",
        "   if node[pa].right==0:\n",
        "    node[pa].right=h\n",
        "   else:\n",
        "    node[pa].left=h\n",
        "# After these , calculate the value of node.center\n",
        " if f==sq_loss:\n",
        "  g=np.mean\n",
        " else:\n",
        "  g=mode_max\n",
        " for h in range(k+1):\n",
        "   if node[h].j==-1:\n",
        "     node[h].center=g(y[node[h].set])\n",
        "   else:\n",
        "    node[h].center=0\n",
        "   return node\n"
      ],
      "metadata": {
        "id": "WIm9TdiZRmtq"
      },
      "execution_count": null,
      "outputs": []
    },
    {
      "cell_type": "code",
      "source": [
        "# Mode\n",
        "def mode(y):\n",
        " n=len(y)\n",
        " if n==0:\n",
        "  return 0\n",
        " return max(freq(y))"
      ],
      "metadata": {
        "id": "L0PtukLPVYqg"
      },
      "execution_count": null,
      "outputs": []
    },
    {
      "cell_type": "code",
      "source": [
        "def freq(y):\n",
        " y=list(y)\n",
        " return [y.count(i) for i in set(y)]"
      ],
      "metadata": {
        "id": "LZVE3TVsVeyc"
      },
      "execution_count": null,
      "outputs": []
    },
    {
      "cell_type": "code",
      "source": [
        "# error rate\n",
        "def mis_match(y):\n",
        " return len(y)-mode(y)"
      ],
      "metadata": {
        "id": "9q9lIr_qVRlF"
      },
      "execution_count": null,
      "outputs": []
    },
    {
      "cell_type": "markdown",
      "source": [
        "# Load Boston Housing Dataset\n",
        "The Boston housing dataset is a famous dataset from the 1970s. It contains 506 observations on housing prices around Boston. It is often used in regression examples and contains 15 features. Data set for the Boston median housing prices\n",
        "(Response) and thirteen other covariates (N = 506). For α = 0, n.min = 50, we\n",
        "construct a decision tree. The procedure is implemented via the following\n",
        "code"
      ],
      "metadata": {
        "id": "B8hSjjriPaTt"
      }
    },
    {
      "cell_type": "code",
      "source": [
        "!pip install sklearn\n"
      ],
      "metadata": {
        "colab": {
          "base_uri": "https://localhost:8080/"
        },
        "id": "qGKDOZMdQHRX",
        "outputId": "f93d3c29-9020-4be0-99e9-dbd31d8cc524"
      },
      "execution_count": null,
      "outputs": [
        {
          "output_type": "stream",
          "name": "stdout",
          "text": [
            "Looking in indexes: https://pypi.org/simple, https://us-python.pkg.dev/colab-wheels/public/simple/\n",
            "Requirement already satisfied: sklearn in /usr/local/lib/python3.7/dist-packages (0.0)\n",
            "Requirement already satisfied: scikit-learn in /usr/local/lib/python3.7/dist-packages (from sklearn) (1.0.2)\n",
            "Requirement already satisfied: threadpoolctl>=2.0.0 in /usr/local/lib/python3.7/dist-packages (from scikit-learn->sklearn) (3.1.0)\n",
            "Requirement already satisfied: scipy>=1.1.0 in /usr/local/lib/python3.7/dist-packages (from scikit-learn->sklearn) (1.7.3)\n",
            "Requirement already satisfied: joblib>=0.11 in /usr/local/lib/python3.7/dist-packages (from scikit-learn->sklearn) (1.1.0)\n",
            "Requirement already satisfied: numpy>=1.14.6 in /usr/local/lib/python3.7/dist-packages (from scikit-learn->sklearn) (1.21.6)\n"
          ]
        }
      ]
    },
    {
      "cell_type": "code",
      "source": [
        "from sklearn.datasets import load_iris"
      ],
      "metadata": {
        "id": "Us0b1OIPPjNR"
      },
      "execution_count": null,
      "outputs": []
    },
    {
      "cell_type": "code",
      "source": [
        "iris=load_iris()\n",
        "iris.target_names\n",
        "f=mis_match\n",
        "x=iris.data\n",
        "y=iris.target\n",
        "n=len(x)\n",
        "nodde=dt(x,y,n_min=4)\n",
        "m=len(node)\n",
        "u=[]; v=[]\n",
        "for h in range(m):\n",
        " if nodde[h].j==-1:\n",
        "  w=y[nodde[h].set]\n",
        "  u.extend([nodde[h].center]*len(w))\n",
        "  v.extend(w)\n",
        "table_count(3,np.array(u),np.array(v))"
      ],
      "metadata": {
        "id": "I4bH0PMEU8-k"
      },
      "execution_count": null,
      "outputs": []
    },
    {
      "cell_type": "code",
      "source": [
        "################################################################ statistical packages\n",
        "#Import statistical package from Scipy\n",
        "from scipy import stats\n",
        "#Import the normal distribution class\n",
        "from scipy.stats import norm\n",
        "#Produce 1000 Random Variable following normal distribution\n",
        "r = norm.rvs(size=1000)\n",
        "#Plotting the distribution\n",
        "fig, ax = plt.subplots(1, 1)\n",
        "ax.hist(r, density=True, histtype='stepfilled', alpha=0.2)\n",
        "ax.legend(loc='best', frameon=False)\n",
        "plt.show()"
      ],
      "metadata": {
        "id": "QM5iEdhcCU5W"
      },
      "execution_count": null,
      "outputs": []
    },
    {
      "cell_type": "code",
      "source": [
        "!pip install pingouin\n"
      ],
      "metadata": {
        "id": "0YwfRX4kDB2u"
      },
      "execution_count": null,
      "outputs": []
    },
    {
      "cell_type": "code",
      "source": [
        "#Import necessary package\n",
        "# anova analyze of variance\n",
        "#Seaborn is a Python data visualization library based on matplotlib. \n",
        "#It provides a high-level interface for drawing attractive and informative statistical graphics.\n",
        "import seaborn as sns\n",
        "import pingouin as pg\n",
        "mpg = sns.load_dataset('mpg')\n",
        "pg.anova(data = mpg, dv = 'mpg', between = 'origin')"
      ],
      "metadata": {
        "id": "NuEj3wm0DOop"
      },
      "execution_count": null,
      "outputs": []
    },
    {
      "cell_type": "markdown",
      "source": [
        "-tatsmodels.api which provide many Cross-sectional models and methods, including Regression and GLM.\n",
        "\n",
        "-statsmodels.tsa.api Which provide Time-series models and methods.\n",
        "\n",
        "-statsmodels.formula.api Which provide an interface for specifying models using formula strings and DataFrames — in simpler term, you could create your own model."
      ],
      "metadata": {
        "id": "Rs3Op45zFAqm"
      }
    },
    {
      "cell_type": "code",
      "source": [
        "pip install statsmodels\n"
      ],
      "metadata": {
        "id": "Te7ld18qDUPH"
      },
      "execution_count": null,
      "outputs": []
    },
    {
      "cell_type": "code",
      "source": [
        "#Importing the necessary package\n",
        "\n",
        "!pip install sklearn\n",
        "\n",
        "from sklearn.datasets import load_boston\n",
        "import statsmodels.api as sm\n",
        "from statsmodels.api import OLS\n",
        "#import the data\n",
        "boston = load_boston()\n",
        "data = pd.DataFrame(data = boston['data'], columns = boston['feature_names'])\n",
        "target = pd.Series(boston['target'])\n",
        "#Develop the model\n",
        "sm_lm = OLS(target, sm.add_constant(data))\n",
        "result = sm_lm.fit()\n",
        "result.summary()"
      ],
      "metadata": {
        "colab": {
          "base_uri": "https://localhost:8080/",
          "height": 1000
        },
        "id": "Bfz8v_bDFX1H",
        "outputId": "aca0c9f5-d228-4a7a-ca70-3b7ca02adda7"
      },
      "execution_count": null,
      "outputs": [
        {
          "output_type": "stream",
          "name": "stdout",
          "text": [
            "Looking in indexes: https://pypi.org/simple, https://us-python.pkg.dev/colab-wheels/public/simple/\n",
            "Requirement already satisfied: sklearn in /usr/local/lib/python3.7/dist-packages (0.0)\n",
            "Requirement already satisfied: scikit-learn in /usr/local/lib/python3.7/dist-packages (from sklearn) (1.0.2)\n",
            "Requirement already satisfied: threadpoolctl>=2.0.0 in /usr/local/lib/python3.7/dist-packages (from scikit-learn->sklearn) (3.1.0)\n",
            "Requirement already satisfied: numpy>=1.14.6 in /usr/local/lib/python3.7/dist-packages (from scikit-learn->sklearn) (1.21.6)\n",
            "Requirement already satisfied: joblib>=0.11 in /usr/local/lib/python3.7/dist-packages (from scikit-learn->sklearn) (1.1.0)\n",
            "Requirement already satisfied: scipy>=1.1.0 in /usr/local/lib/python3.7/dist-packages (from scikit-learn->sklearn) (1.7.3)\n"
          ]
        },
        {
          "output_type": "stream",
          "name": "stderr",
          "text": [
            "/usr/local/lib/python3.7/dist-packages/statsmodels/tools/_testing.py:19: FutureWarning: pandas.util.testing is deprecated. Use the functions in the public API at pandas.testing instead.\n",
            "  import pandas.util.testing as tm\n",
            "/usr/local/lib/python3.7/dist-packages/sklearn/utils/deprecation.py:87: FutureWarning: Function load_boston is deprecated; `load_boston` is deprecated in 1.0 and will be removed in 1.2.\n",
            "\n",
            "    The Boston housing prices dataset has an ethical problem. You can refer to\n",
            "    the documentation of this function for further details.\n",
            "\n",
            "    The scikit-learn maintainers therefore strongly discourage the use of this\n",
            "    dataset unless the purpose of the code is to study and educate about\n",
            "    ethical issues in data science and machine learning.\n",
            "\n",
            "    In this special case, you can fetch the dataset from the original\n",
            "    source::\n",
            "\n",
            "        import pandas as pd\n",
            "        import numpy as np\n",
            "\n",
            "\n",
            "        data_url = \"http://lib.stat.cmu.edu/datasets/boston\"\n",
            "        raw_df = pd.read_csv(data_url, sep=\"\\s+\", skiprows=22, header=None)\n",
            "        data = np.hstack([raw_df.values[::2, :], raw_df.values[1::2, :2]])\n",
            "        target = raw_df.values[1::2, 2]\n",
            "\n",
            "    Alternative datasets include the California housing dataset (i.e.\n",
            "    :func:`~sklearn.datasets.fetch_california_housing`) and the Ames housing\n",
            "    dataset. You can load the datasets as follows::\n",
            "\n",
            "        from sklearn.datasets import fetch_california_housing\n",
            "        housing = fetch_california_housing()\n",
            "\n",
            "    for the California housing dataset and::\n",
            "\n",
            "        from sklearn.datasets import fetch_openml\n",
            "        housing = fetch_openml(name=\"house_prices\", as_frame=True)\n",
            "\n",
            "    for the Ames housing dataset.\n",
            "    \n",
            "  warnings.warn(msg, category=FutureWarning)\n",
            "/usr/local/lib/python3.7/dist-packages/statsmodels/tsa/tsatools.py:117: FutureWarning: In a future version of pandas all arguments of concat except for the argument 'objs' will be keyword-only\n",
            "  x = pd.concat(x[::order], 1)\n"
          ]
        },
        {
          "output_type": "execute_result",
          "data": {
            "text/plain": [
              "<class 'statsmodels.iolib.summary.Summary'>\n",
              "\"\"\"\n",
              "                            OLS Regression Results                            \n",
              "==============================================================================\n",
              "Dep. Variable:                      y   R-squared:                       0.741\n",
              "Model:                            OLS   Adj. R-squared:                  0.734\n",
              "Method:                 Least Squares   F-statistic:                     108.1\n",
              "Date:                Fri, 05 Aug 2022   Prob (F-statistic):          6.72e-135\n",
              "Time:                        17:12:39   Log-Likelihood:                -1498.8\n",
              "No. Observations:                 506   AIC:                             3026.\n",
              "Df Residuals:                     492   BIC:                             3085.\n",
              "Df Model:                          13                                         \n",
              "Covariance Type:            nonrobust                                         \n",
              "==============================================================================\n",
              "                 coef    std err          t      P>|t|      [0.025      0.975]\n",
              "------------------------------------------------------------------------------\n",
              "const         36.4595      5.103      7.144      0.000      26.432      46.487\n",
              "CRIM          -0.1080      0.033     -3.287      0.001      -0.173      -0.043\n",
              "ZN             0.0464      0.014      3.382      0.001       0.019       0.073\n",
              "INDUS          0.0206      0.061      0.334      0.738      -0.100       0.141\n",
              "CHAS           2.6867      0.862      3.118      0.002       0.994       4.380\n",
              "NOX          -17.7666      3.820     -4.651      0.000     -25.272     -10.262\n",
              "RM             3.8099      0.418      9.116      0.000       2.989       4.631\n",
              "AGE            0.0007      0.013      0.052      0.958      -0.025       0.027\n",
              "DIS           -1.4756      0.199     -7.398      0.000      -1.867      -1.084\n",
              "RAD            0.3060      0.066      4.613      0.000       0.176       0.436\n",
              "TAX           -0.0123      0.004     -3.280      0.001      -0.020      -0.005\n",
              "PTRATIO       -0.9527      0.131     -7.283      0.000      -1.210      -0.696\n",
              "B              0.0093      0.003      3.467      0.001       0.004       0.015\n",
              "LSTAT         -0.5248      0.051    -10.347      0.000      -0.624      -0.425\n",
              "==============================================================================\n",
              "Omnibus:                      178.041   Durbin-Watson:                   1.078\n",
              "Prob(Omnibus):                  0.000   Jarque-Bera (JB):              783.126\n",
              "Skew:                           1.521   Prob(JB):                    8.84e-171\n",
              "Kurtosis:                       8.281   Cond. No.                     1.51e+04\n",
              "==============================================================================\n",
              "\n",
              "Warnings:\n",
              "[1] Standard Errors assume that the covariance matrix of the errors is correctly specified.\n",
              "[2] The condition number is large, 1.51e+04. This might indicate that there are\n",
              "strong multicollinearity or other numerical problems.\n",
              "\"\"\""
            ],
            "text/html": [
              "<table class=\"simpletable\">\n",
              "<caption>OLS Regression Results</caption>\n",
              "<tr>\n",
              "  <th>Dep. Variable:</th>            <td>y</td>        <th>  R-squared:         </th> <td>   0.741</td> \n",
              "</tr>\n",
              "<tr>\n",
              "  <th>Model:</th>                   <td>OLS</td>       <th>  Adj. R-squared:    </th> <td>   0.734</td> \n",
              "</tr>\n",
              "<tr>\n",
              "  <th>Method:</th>             <td>Least Squares</td>  <th>  F-statistic:       </th> <td>   108.1</td> \n",
              "</tr>\n",
              "<tr>\n",
              "  <th>Date:</th>             <td>Fri, 05 Aug 2022</td> <th>  Prob (F-statistic):</th> <td>6.72e-135</td>\n",
              "</tr>\n",
              "<tr>\n",
              "  <th>Time:</th>                 <td>17:12:39</td>     <th>  Log-Likelihood:    </th> <td> -1498.8</td> \n",
              "</tr>\n",
              "<tr>\n",
              "  <th>No. Observations:</th>      <td>   506</td>      <th>  AIC:               </th> <td>   3026.</td> \n",
              "</tr>\n",
              "<tr>\n",
              "  <th>Df Residuals:</th>          <td>   492</td>      <th>  BIC:               </th> <td>   3085.</td> \n",
              "</tr>\n",
              "<tr>\n",
              "  <th>Df Model:</th>              <td>    13</td>      <th>                     </th>     <td> </td>    \n",
              "</tr>\n",
              "<tr>\n",
              "  <th>Covariance Type:</th>      <td>nonrobust</td>    <th>                     </th>     <td> </td>    \n",
              "</tr>\n",
              "</table>\n",
              "<table class=\"simpletable\">\n",
              "<tr>\n",
              "     <td></td>        <th>coef</th>     <th>std err</th>      <th>t</th>      <th>P>|t|</th>  <th>[0.025</th>    <th>0.975]</th>  \n",
              "</tr>\n",
              "<tr>\n",
              "  <th>const</th>   <td>   36.4595</td> <td>    5.103</td> <td>    7.144</td> <td> 0.000</td> <td>   26.432</td> <td>   46.487</td>\n",
              "</tr>\n",
              "<tr>\n",
              "  <th>CRIM</th>    <td>   -0.1080</td> <td>    0.033</td> <td>   -3.287</td> <td> 0.001</td> <td>   -0.173</td> <td>   -0.043</td>\n",
              "</tr>\n",
              "<tr>\n",
              "  <th>ZN</th>      <td>    0.0464</td> <td>    0.014</td> <td>    3.382</td> <td> 0.001</td> <td>    0.019</td> <td>    0.073</td>\n",
              "</tr>\n",
              "<tr>\n",
              "  <th>INDUS</th>   <td>    0.0206</td> <td>    0.061</td> <td>    0.334</td> <td> 0.738</td> <td>   -0.100</td> <td>    0.141</td>\n",
              "</tr>\n",
              "<tr>\n",
              "  <th>CHAS</th>    <td>    2.6867</td> <td>    0.862</td> <td>    3.118</td> <td> 0.002</td> <td>    0.994</td> <td>    4.380</td>\n",
              "</tr>\n",
              "<tr>\n",
              "  <th>NOX</th>     <td>  -17.7666</td> <td>    3.820</td> <td>   -4.651</td> <td> 0.000</td> <td>  -25.272</td> <td>  -10.262</td>\n",
              "</tr>\n",
              "<tr>\n",
              "  <th>RM</th>      <td>    3.8099</td> <td>    0.418</td> <td>    9.116</td> <td> 0.000</td> <td>    2.989</td> <td>    4.631</td>\n",
              "</tr>\n",
              "<tr>\n",
              "  <th>AGE</th>     <td>    0.0007</td> <td>    0.013</td> <td>    0.052</td> <td> 0.958</td> <td>   -0.025</td> <td>    0.027</td>\n",
              "</tr>\n",
              "<tr>\n",
              "  <th>DIS</th>     <td>   -1.4756</td> <td>    0.199</td> <td>   -7.398</td> <td> 0.000</td> <td>   -1.867</td> <td>   -1.084</td>\n",
              "</tr>\n",
              "<tr>\n",
              "  <th>RAD</th>     <td>    0.3060</td> <td>    0.066</td> <td>    4.613</td> <td> 0.000</td> <td>    0.176</td> <td>    0.436</td>\n",
              "</tr>\n",
              "<tr>\n",
              "  <th>TAX</th>     <td>   -0.0123</td> <td>    0.004</td> <td>   -3.280</td> <td> 0.001</td> <td>   -0.020</td> <td>   -0.005</td>\n",
              "</tr>\n",
              "<tr>\n",
              "  <th>PTRATIO</th> <td>   -0.9527</td> <td>    0.131</td> <td>   -7.283</td> <td> 0.000</td> <td>   -1.210</td> <td>   -0.696</td>\n",
              "</tr>\n",
              "<tr>\n",
              "  <th>B</th>       <td>    0.0093</td> <td>    0.003</td> <td>    3.467</td> <td> 0.001</td> <td>    0.004</td> <td>    0.015</td>\n",
              "</tr>\n",
              "<tr>\n",
              "  <th>LSTAT</th>   <td>   -0.5248</td> <td>    0.051</td> <td>  -10.347</td> <td> 0.000</td> <td>   -0.624</td> <td>   -0.425</td>\n",
              "</tr>\n",
              "</table>\n",
              "<table class=\"simpletable\">\n",
              "<tr>\n",
              "  <th>Omnibus:</th>       <td>178.041</td> <th>  Durbin-Watson:     </th> <td>   1.078</td> \n",
              "</tr>\n",
              "<tr>\n",
              "  <th>Prob(Omnibus):</th> <td> 0.000</td>  <th>  Jarque-Bera (JB):  </th> <td> 783.126</td> \n",
              "</tr>\n",
              "<tr>\n",
              "  <th>Skew:</th>          <td> 1.521</td>  <th>  Prob(JB):          </th> <td>8.84e-171</td>\n",
              "</tr>\n",
              "<tr>\n",
              "  <th>Kurtosis:</th>      <td> 8.281</td>  <th>  Cond. No.          </th> <td>1.51e+04</td> \n",
              "</tr>\n",
              "</table><br/><br/>Warnings:<br/>[1] Standard Errors assume that the covariance matrix of the errors is correctly specified.<br/>[2] The condition number is large, 1.51e+04. This might indicate that there are<br/>strong multicollinearity or other numerical problems."
            ]
          },
          "metadata": {},
          "execution_count": 25
        }
      ]
    },
    {
      "cell_type": "code",
      "source": [
        "from sklearn.linear_model import LinearRegression\n",
        "X = np.array([[1, 1], [1, 2], [2, 2], [2, 3]])\n",
        "# y = 1 * x_0 + 2 * x_1 + 3\n",
        "y = np.dot(X, np.array([1, 2])) + 3\n",
        "reg = LinearRegression().fit(X, y)\n"
      ],
      "metadata": {
        "id": "XZNK3oJX_QCv"
      },
      "execution_count": null,
      "outputs": []
    },
    {
      "cell_type": "code",
      "source": [
        "reg.score(X, y)\n"
      ],
      "metadata": {
        "colab": {
          "base_uri": "https://localhost:8080/"
        },
        "id": "gOSfHMlp_4Z9",
        "outputId": "ff756f92-20da-446e-ace2-783f184e22a9"
      },
      "execution_count": null,
      "outputs": [
        {
          "output_type": "execute_result",
          "data": {
            "text/plain": [
              "1.0"
            ]
          },
          "metadata": {},
          "execution_count": 30
        }
      ]
    },
    {
      "cell_type": "code",
      "source": [
        "reg.coef_"
      ],
      "metadata": {
        "colab": {
          "base_uri": "https://localhost:8080/"
        },
        "id": "HyYR9Za0_8-q",
        "outputId": "fbb242d3-99e4-4e3b-f81c-ae96170bb651"
      },
      "execution_count": null,
      "outputs": [
        {
          "output_type": "execute_result",
          "data": {
            "text/plain": [
              "array([1., 2.])"
            ]
          },
          "metadata": {},
          "execution_count": 31
        }
      ]
    },
    {
      "cell_type": "code",
      "source": [
        "reg.intercept_"
      ],
      "metadata": {
        "colab": {
          "base_uri": "https://localhost:8080/"
        },
        "id": "SIiECmYMAAIu",
        "outputId": "023e75a5-b7bc-4918-acef-04147a92df70"
      },
      "execution_count": null,
      "outputs": [
        {
          "output_type": "execute_result",
          "data": {
            "text/plain": [
              "3.0000000000000018"
            ]
          },
          "metadata": {},
          "execution_count": 32
        }
      ]
    },
    {
      "cell_type": "code",
      "source": [
        "reg.predict(np.array([[3, 5]]))"
      ],
      "metadata": {
        "colab": {
          "base_uri": "https://localhost:8080/"
        },
        "id": "TUi3drWVACsp",
        "outputId": "7116a0b1-3ba2-47b4-a209-ea618cdecbde"
      },
      "execution_count": null,
      "outputs": [
        {
          "output_type": "execute_result",
          "data": {
            "text/plain": [
              "array([16.])"
            ]
          },
          "metadata": {},
          "execution_count": 34
        }
      ]
    }
  ]
}